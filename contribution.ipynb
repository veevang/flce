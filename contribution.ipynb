{
 "cells": [
  {
   "cell_type": "markdown",
   "id": "b65d4709-eeb7-474d-9d08-e858290ddbb9",
   "metadata": {},
   "source": [
    "# 联邦学习贡献评估四种方法的代码实现"
   ]
  },
  {
   "cell_type": "markdown",
   "id": "61a15803-485a-4b95-9103-6b99650f3347",
   "metadata": {},
   "source": [
    "## 接口"
   ]
  },
  {
   "cell_type": "markdown",
   "id": "6f530560-aeab-41b2-8dff-090a904bf95a",
   "metadata": {},
   "source": [
    "输入：v：任务模型类型、m：评价方式如准确率、N：各参与方（的数据）\n",
    "\n",
    "输出：各参与方的数据估值"
   ]
  },
  {
   "cell_type": "markdown",
   "id": "15aa5bd2-56c5-45a6-b48a-0aa1ec292f16",
   "metadata": {},
   "source": [
    "## 读取与划分数据"
   ]
  },
  {
   "cell_type": "code",
   "execution_count": null,
   "outputs": [],
   "source": [
    "from loader.regression_data_loader import *\n",
    "from loader.classification_data_loader import *\n",
    "from loader.image_data_loader import *"
   ],
   "metadata": {
    "collapsed": false,
    "pycharm": {
     "is_executing": true
    }
   }
  },
  {
   "cell_type": "code",
   "execution_count": null,
   "outputs": [],
   "source": [
    "from measure.individual import Individual\n",
    "from measure.leave_one_out import LeaveOneOut\n",
    "from measure.shapley import Shapley\n",
    "from measure.least_core import LeastCore"
   ],
   "metadata": {
    "collapsed": false
   }
  },
  {
   "cell_type": "code",
   "execution_count": null,
   "outputs": [],
   "source": [
    "from model.model import *"
   ],
   "metadata": {
    "collapsed": false
   }
  },
  {
   "cell_type": "code",
   "execution_count": null,
   "outputs": [],
   "source": [
    "loader = MNIST()"
   ],
   "metadata": {
    "collapsed": false
   }
  },
  {
   "cell_type": "code",
   "execution_count": 4,
   "id": "820a0215-1f88-4ee3-9f64-d96ab67e9d10",
   "metadata": {},
   "outputs": [],
   "source": [
    "from dataset.Dataset import read_adult, uniform_split, ratio_split\n",
    "\n",
    "X_train, y_train, X_test, y_test = read_adult(0.2)\n",
    "X_train_3d, y_train_2d = uniform_split(3, X_train, y_train)"
   ]
  },
  {
   "cell_type": "markdown",
   "id": "9ac104eb-7210-4bf5-bf8f-cfdb4d1aaaa5",
   "metadata": {},
   "source": [
    "## 选择模型"
   ]
  },
  {
   "cell_type": "code",
   "execution_count": 7,
   "id": "41f1a25c-1c9c-4f7b-a135-19cd42a83927",
   "metadata": {},
   "outputs": [],
   "source": [
    "from model.Model import return_model\n",
    "model = return_model('SVC')"
   ]
  },
  {
   "cell_type": "markdown",
   "id": "9ec3af59-71cf-4ad5-a078-28301e184059",
   "metadata": {},
   "source": [
    "## 实现"
   ]
  },
  {
   "cell_type": "markdown",
   "id": "07837460-e0da-4a98-97ac-8c775933be2c",
   "metadata": {
    "tags": []
   },
   "source": [
    "### 个体法"
   ]
  },
  {
   "cell_type": "code",
   "execution_count": 9,
   "id": "aadf3315-7cbb-4c6e-abc2-c2776b5fe770",
   "metadata": {},
   "outputs": [
    {
     "name": "stdout",
     "output_type": "stream",
     "text": [
      "[0.77 0.79 0.75]\n"
     ]
    }
   ],
   "source": [
    "from measure.INDIV import INDIV\n",
    "\n",
    "measure = INDIV(X_train_3d, y_train_2d, X_test, y_test, model)\n",
    "res = measure.score()\n",
    "\n",
    "print(res)"
   ]
  },
  {
   "cell_type": "markdown",
   "id": "318b3181-e409-4f63-917a-e1862d712595",
   "metadata": {
    "tags": []
   },
   "source": [
    "### LOO(留一法)"
   ]
  },
  {
   "cell_type": "markdown",
   "id": "378b9bc9-ba59-483a-a9b2-13db92ae6013",
   "metadata": {},
   "source": [
    "https://github.com/AI-secure/Shapley-Study/blob/master/shapley/measures/LOO.py"
   ]
  },
  {
   "cell_type": "code",
   "execution_count": 10,
   "id": "6564defc-3ebb-434e-af9b-458f51e6a390",
   "metadata": {},
   "outputs": [
    {
     "name": "stdout",
     "output_type": "stream",
     "text": [
      "[0.03 0.06 0.  ]\n"
     ]
    }
   ],
   "source": [
    "from measure.LOO import LOO\n",
    "\n",
    "measure = LOO(X_train_3d, y_train_2d, X_test, y_test, model)\n",
    "res = measure.score()\n",
    "\n",
    "print(res)"
   ]
  },
  {
   "cell_type": "markdown",
   "id": "c62b081d-af15-489a-967f-783ef42e27b1",
   "metadata": {
    "tags": []
   },
   "source": [
    "### Shaply(夏普利值)"
   ]
  },
  {
   "cell_type": "code",
   "execution_count": 11,
   "id": "a98a0956-2d65-4351-8468-0787cdaeb560",
   "metadata": {},
   "outputs": [
    {
     "name": "stdout",
     "output_type": "stream",
     "text": [
      "[0.27333333 0.29833333 0.24833333]\n",
      "0.8199999999999998\n",
      "0.82\n"
     ]
    }
   ],
   "source": [
    "from measure.Shapley import Shapley\n",
    "\n",
    "measure = Shapley(X_train_3d, y_train_2d, X_test, y_test, model)\n",
    "res = measure.score()\n",
    "\n",
    "print(res)\n",
    "print(sum(res))\n",
    "\n",
    "model.fit(X_train, y_train)\n",
    "print(model.score(X_test, y_test))"
   ]
  },
  {
   "cell_type": "markdown",
   "id": "de318f94-f18f-4aec-89db-39d00eae3cd9",
   "metadata": {},
   "source": [
    "### 最小核"
   ]
  },
  {
   "cell_type": "code",
   "execution_count": 15,
   "id": "c1f5b752-6ffa-4744-9749-ca503e27b298",
   "metadata": {},
   "outputs": [
    {
     "name": "stdout",
     "output_type": "stream",
     "text": [
      "[0.27333333 0.29333333 0.25333333]\n",
      "0.8200000000000001\n",
      "0.82\n"
     ]
    }
   ],
   "source": [
    "from measure.LeastCore import LeastCore\n",
    "\n",
    "loader = Bank()\n",
    "loader.read(nrows=700)\n",
    "loader.encode()\n",
    "loader.train_test_split(test_ratio=0.1)\n",
    "# loader.ratio_split([0.5, 0.4, 0.1])\n",
    "loader.ratio_split([0.05, 0.2, 0.25, 0.1, 0.2, 0.2])\n",
    "loader.randomly_generate_data(40)\n",
    "loader.reverse_y_train({0})\n",
    "print(len(loader.y_train_parts))\n",
    "\n",
    "model = return_model('LR')\n",
    "\n",
    "measure = Shapley(loader, model)\n",
    "res = measure.score()\n",
    "\n",
    "# measure.plot()\n",
    "\n",
    "print('res=', res)\n",
    "print(sum(res))\n",
    "\n",
    "model.fit(torch.cat(loader.X_train_parts), torch.cat(loader.y_train_parts))\n",
    "print(model.score(loader.X_test, loader.y_test))"
   ]
  },
  {
   "cell_type": "markdown",
   "id": "fbc93bc1-c23d-4a4f-905f-ff617d6da54d",
   "metadata": {},
   "source": [
    "1. 新增模型\n",
    "3. 新增价值度量指标\n",
    "4. 新增参与方数据分布方式"
   ]
  },
  {
   "cell_type": "markdown",
   "id": "7eb4f24a-1462-489e-a043-ec82241fc0bb",
   "metadata": {},
   "source": [
    "## 对方法的评估"
   ]
  },
  {
   "cell_type": "markdown",
   "id": "b2e84f75-589d-46f4-822d-1613705aea3f",
   "metadata": {},
   "source": [
    "性能评测的指标可以等先把上述流程跑通后再考虑，比如：\n",
    "- 贡献评估准确率：一般是从全体下逐个按价值最高到最低移除参与方，最好的评估结果会下降最快\n",
    "- 贡献评估耗时：评估需要耗时多久\n",
    "- 能否抵御恶意参与方：比如输入数据中有参与方为随机数据、复制数据后，是否会受影响"
   ]
  },
  {
   "cell_type": "code",
   "execution_count": 5,
   "id": "46122682-c55a-4bdd-b19c-96216fadea06",
   "metadata": {},
   "outputs": [
    {
     "name": "stdout",
     "output_type": "stream",
     "text": [
      "   age         job  marital education default  balance housing loan   contact  \\\n",
      "0   30  unemployed  married   primary      no     1787      no   no  cellular   \n",
      "\n",
      "   day month  duration  campaign  pdays  previous  poutcome   y  \n",
      "0   19   oct        79         1     -1         0       NaN  no  \n"
     ]
    },
    {
     "ename": "ValueError",
     "evalue": "Duplicate names are not allowed.",
     "output_type": "error",
     "traceback": [
      "\u001B[1;31m---------------------------------------------------------------------------\u001B[0m",
      "\u001B[1;31mValueError\u001B[0m                                Traceback (most recent call last)",
      "Cell \u001B[1;32mIn [5], line 25\u001B[0m\n\u001B[0;32m     18\u001B[0m fields \u001B[38;5;241m=\u001B[39m pd\u001B[38;5;241m.\u001B[39mread_csv(\u001B[38;5;124m'\u001B[39m\u001B[38;5;124mdata\u001B[39m\u001B[38;5;130;01m\\\\\u001B[39;00m\u001B[38;5;124mbank.csv\u001B[39m\u001B[38;5;124m'\u001B[39m, \n\u001B[0;32m     19\u001B[0m                      engine\u001B[38;5;241m=\u001B[39m\u001B[38;5;124m'\u001B[39m\u001B[38;5;124mpython\u001B[39m\u001B[38;5;124m'\u001B[39m,\n\u001B[0;32m     20\u001B[0m                      sep\u001B[38;5;241m=\u001B[39m\u001B[38;5;124m'\u001B[39m\u001B[38;5;124m;\u001B[39m\u001B[38;5;124m'\u001B[39m,\n\u001B[0;32m     21\u001B[0m                      na_values\u001B[38;5;241m=\u001B[39m\u001B[38;5;124m\"\u001B[39m\u001B[38;5;124munknown\u001B[39m\u001B[38;5;124m\"\u001B[39m,\n\u001B[0;32m     22\u001B[0m                      nrows\u001B[38;5;241m=\u001B[39m\u001B[38;5;241m1\u001B[39m)\n\u001B[0;32m     24\u001B[0m \u001B[38;5;28mprint\u001B[39m(fields)\n\u001B[1;32m---> 25\u001B[0m data \u001B[38;5;241m=\u001B[39m \u001B[43mpd\u001B[49m\u001B[38;5;241;43m.\u001B[39;49m\u001B[43mread_csv\u001B[49m\u001B[43m(\u001B[49m\u001B[38;5;124;43m'\u001B[39;49m\u001B[38;5;124;43mdata\u001B[39;49m\u001B[38;5;130;43;01m\\\\\u001B[39;49;00m\u001B[38;5;124;43mbank.csv\u001B[39;49m\u001B[38;5;124;43m'\u001B[39;49m\u001B[43m,\u001B[49m\n\u001B[0;32m     26\u001B[0m \u001B[43m                   \u001B[49m\u001B[43mengine\u001B[49m\u001B[38;5;241;43m=\u001B[39;49m\u001B[38;5;124;43m'\u001B[39;49m\u001B[38;5;124;43mpython\u001B[39;49m\u001B[38;5;124;43m'\u001B[39;49m\u001B[43m,\u001B[49m\n\u001B[0;32m     27\u001B[0m \u001B[43m                   \u001B[49m\u001B[43mnames\u001B[49m\u001B[38;5;241;43m=\u001B[39;49m\u001B[43mfields\u001B[49m\u001B[43m,\u001B[49m\n\u001B[0;32m     28\u001B[0m \u001B[43m                   \u001B[49m\u001B[43msep\u001B[49m\u001B[38;5;241;43m=\u001B[39;49m\u001B[38;5;124;43m'\u001B[39;49m\u001B[38;5;124;43m;\u001B[39;49m\u001B[38;5;124;43m'\u001B[39;49m\u001B[43m,\u001B[49m\n\u001B[0;32m     29\u001B[0m \u001B[43m                   \u001B[49m\u001B[43mna_values\u001B[49m\u001B[38;5;241;43m=\u001B[39;49m\u001B[38;5;124;43m\"\u001B[39;49m\u001B[38;5;124;43munknown\u001B[39;49m\u001B[38;5;124;43m\"\u001B[39;49m\u001B[43m,\u001B[49m\u001B[43m   \u001B[49m\u001B[38;5;66;43;03m# na_values指的是，当碰到\" ?\"时将其替换为NaN\u001B[39;49;00m\n\u001B[0;32m     30\u001B[0m \u001B[43m                   \u001B[49m\u001B[43mnrows\u001B[49m\u001B[38;5;241;43m=\u001B[39;49m\u001B[38;5;241;43m100\u001B[39;49m\u001B[43m)\u001B[49m\n\u001B[0;32m     32\u001B[0m \u001B[38;5;28mprint\u001B[39m()\n\u001B[0;32m     33\u001B[0m data1\u001B[38;5;241m.\u001B[39mappend(\u001B[38;5;241m4\u001B[39m)\n",
      "File \u001B[1;32mD:\\Python\\Python39\\lib\\site-packages\\pandas\\util\\_decorators.py:211\u001B[0m, in \u001B[0;36mdeprecate_kwarg.<locals>._deprecate_kwarg.<locals>.wrapper\u001B[1;34m(*args, **kwargs)\u001B[0m\n\u001B[0;32m    209\u001B[0m     \u001B[38;5;28;01melse\u001B[39;00m:\n\u001B[0;32m    210\u001B[0m         kwargs[new_arg_name] \u001B[38;5;241m=\u001B[39m new_arg_value\n\u001B[1;32m--> 211\u001B[0m \u001B[38;5;28;01mreturn\u001B[39;00m func(\u001B[38;5;241m*\u001B[39margs, \u001B[38;5;241m*\u001B[39m\u001B[38;5;241m*\u001B[39mkwargs)\n",
      "File \u001B[1;32mD:\\Python\\Python39\\lib\\site-packages\\pandas\\util\\_decorators.py:317\u001B[0m, in \u001B[0;36mdeprecate_nonkeyword_arguments.<locals>.decorate.<locals>.wrapper\u001B[1;34m(*args, **kwargs)\u001B[0m\n\u001B[0;32m    311\u001B[0m \u001B[38;5;28;01mif\u001B[39;00m \u001B[38;5;28mlen\u001B[39m(args) \u001B[38;5;241m>\u001B[39m num_allow_args:\n\u001B[0;32m    312\u001B[0m     warnings\u001B[38;5;241m.\u001B[39mwarn(\n\u001B[0;32m    313\u001B[0m         msg\u001B[38;5;241m.\u001B[39mformat(arguments\u001B[38;5;241m=\u001B[39marguments),\n\u001B[0;32m    314\u001B[0m         \u001B[38;5;167;01mFutureWarning\u001B[39;00m,\n\u001B[0;32m    315\u001B[0m         stacklevel\u001B[38;5;241m=\u001B[39mfind_stack_level(inspect\u001B[38;5;241m.\u001B[39mcurrentframe()),\n\u001B[0;32m    316\u001B[0m     )\n\u001B[1;32m--> 317\u001B[0m \u001B[38;5;28;01mreturn\u001B[39;00m func(\u001B[38;5;241m*\u001B[39margs, \u001B[38;5;241m*\u001B[39m\u001B[38;5;241m*\u001B[39mkwargs)\n",
      "File \u001B[1;32mD:\\Python\\Python39\\lib\\site-packages\\pandas\\io\\parsers\\readers.py:950\u001B[0m, in \u001B[0;36mread_csv\u001B[1;34m(filepath_or_buffer, sep, delimiter, header, names, index_col, usecols, squeeze, prefix, mangle_dupe_cols, dtype, engine, converters, true_values, false_values, skipinitialspace, skiprows, skipfooter, nrows, na_values, keep_default_na, na_filter, verbose, skip_blank_lines, parse_dates, infer_datetime_format, keep_date_col, date_parser, dayfirst, cache_dates, iterator, chunksize, compression, thousands, decimal, lineterminator, quotechar, quoting, doublequote, escapechar, comment, encoding, encoding_errors, dialect, error_bad_lines, warn_bad_lines, on_bad_lines, delim_whitespace, low_memory, memory_map, float_precision, storage_options)\u001B[0m\n\u001B[0;32m    935\u001B[0m kwds_defaults \u001B[38;5;241m=\u001B[39m _refine_defaults_read(\n\u001B[0;32m    936\u001B[0m     dialect,\n\u001B[0;32m    937\u001B[0m     delimiter,\n\u001B[1;32m   (...)\u001B[0m\n\u001B[0;32m    946\u001B[0m     defaults\u001B[38;5;241m=\u001B[39m{\u001B[38;5;124m\"\u001B[39m\u001B[38;5;124mdelimiter\u001B[39m\u001B[38;5;124m\"\u001B[39m: \u001B[38;5;124m\"\u001B[39m\u001B[38;5;124m,\u001B[39m\u001B[38;5;124m\"\u001B[39m},\n\u001B[0;32m    947\u001B[0m )\n\u001B[0;32m    948\u001B[0m kwds\u001B[38;5;241m.\u001B[39mupdate(kwds_defaults)\n\u001B[1;32m--> 950\u001B[0m \u001B[38;5;28;01mreturn\u001B[39;00m \u001B[43m_read\u001B[49m\u001B[43m(\u001B[49m\u001B[43mfilepath_or_buffer\u001B[49m\u001B[43m,\u001B[49m\u001B[43m \u001B[49m\u001B[43mkwds\u001B[49m\u001B[43m)\u001B[49m\n",
      "File \u001B[1;32mD:\\Python\\Python39\\lib\\site-packages\\pandas\\io\\parsers\\readers.py:602\u001B[0m, in \u001B[0;36m_read\u001B[1;34m(filepath_or_buffer, kwds)\u001B[0m\n\u001B[0;32m    599\u001B[0m nrows \u001B[38;5;241m=\u001B[39m kwds\u001B[38;5;241m.\u001B[39mget(\u001B[38;5;124m\"\u001B[39m\u001B[38;5;124mnrows\u001B[39m\u001B[38;5;124m\"\u001B[39m, \u001B[38;5;28;01mNone\u001B[39;00m)\n\u001B[0;32m    601\u001B[0m \u001B[38;5;66;03m# Check for duplicates in names.\u001B[39;00m\n\u001B[1;32m--> 602\u001B[0m \u001B[43m_validate_names\u001B[49m\u001B[43m(\u001B[49m\u001B[43mkwds\u001B[49m\u001B[38;5;241;43m.\u001B[39;49m\u001B[43mget\u001B[49m\u001B[43m(\u001B[49m\u001B[38;5;124;43m\"\u001B[39;49m\u001B[38;5;124;43mnames\u001B[39;49m\u001B[38;5;124;43m\"\u001B[39;49m\u001B[43m,\u001B[49m\u001B[43m \u001B[49m\u001B[38;5;28;43;01mNone\u001B[39;49;00m\u001B[43m)\u001B[49m\u001B[43m)\u001B[49m\n\u001B[0;32m    604\u001B[0m \u001B[38;5;66;03m# Create the parser.\u001B[39;00m\n\u001B[0;32m    605\u001B[0m parser \u001B[38;5;241m=\u001B[39m TextFileReader(filepath_or_buffer, \u001B[38;5;241m*\u001B[39m\u001B[38;5;241m*\u001B[39mkwds)\n",
      "File \u001B[1;32mD:\\Python\\Python39\\lib\\site-packages\\pandas\\io\\parsers\\readers.py:564\u001B[0m, in \u001B[0;36m_validate_names\u001B[1;34m(names)\u001B[0m\n\u001B[0;32m    562\u001B[0m \u001B[38;5;28;01mif\u001B[39;00m names \u001B[38;5;129;01mis\u001B[39;00m \u001B[38;5;129;01mnot\u001B[39;00m \u001B[38;5;28;01mNone\u001B[39;00m:\n\u001B[0;32m    563\u001B[0m     \u001B[38;5;28;01mif\u001B[39;00m \u001B[38;5;28mlen\u001B[39m(names) \u001B[38;5;241m!=\u001B[39m \u001B[38;5;28mlen\u001B[39m(\u001B[38;5;28mset\u001B[39m(names)):\n\u001B[1;32m--> 564\u001B[0m         \u001B[38;5;28;01mraise\u001B[39;00m \u001B[38;5;167;01mValueError\u001B[39;00m(\u001B[38;5;124m\"\u001B[39m\u001B[38;5;124mDuplicate names are not allowed.\u001B[39m\u001B[38;5;124m\"\u001B[39m)\n\u001B[0;32m    565\u001B[0m     \u001B[38;5;28;01mif\u001B[39;00m \u001B[38;5;129;01mnot\u001B[39;00m (\n\u001B[0;32m    566\u001B[0m         is_list_like(names, allow_sets\u001B[38;5;241m=\u001B[39m\u001B[38;5;28;01mFalse\u001B[39;00m) \u001B[38;5;129;01mor\u001B[39;00m \u001B[38;5;28misinstance\u001B[39m(names, abc\u001B[38;5;241m.\u001B[39mKeysView)\n\u001B[0;32m    567\u001B[0m     ):\n\u001B[0;32m    568\u001B[0m         \u001B[38;5;28;01mraise\u001B[39;00m \u001B[38;5;167;01mValueError\u001B[39;00m(\u001B[38;5;124m\"\u001B[39m\u001B[38;5;124mNames should be an ordered collection.\u001B[39m\u001B[38;5;124m\"\u001B[39m)\n",
      "\u001B[1;31mValueError\u001B[0m: Duplicate names are not allowed."
     ]
    }
   ],
   "source": [
    "import numpy as np\n",
    "from dataset.Dataset import *\n",
    "from sklearn.preprocessing import LabelEncoder, OneHotEncoder\n",
    "from sklearn import preprocessing\n",
    "import pandas as pd\n",
    "\n",
    "# X_train, y_train, X_test, y_test = new_read_adult(0.1)\n",
    "# X_train_3d, y_train_2d = uniform_split(10, X_train, y_train)\n",
    "ratios = [0.05, 0.6, 0.35]\n",
    "\n",
    "# X_train_3d, y_train_2d = ratio_split(ratios, X_train, y_train)\n",
    "\n",
    "data = [[1, 1], [1, 1], [1, 2]]\n",
    "data1 = [1,2,3]\n",
    "score = preprocessing.scale(data, axis=0)\n",
    "\n",
    "\n",
    "fields = pd.read_csv('data\\\\bank.csv', \n",
    "                     engine='python',\n",
    "                     sep=';',\n",
    "                     na_values=\"unknown\",\n",
    "                     nrows=1)\n",
    "\n",
    "print(fields)\n",
    "data = pd.read_csv('data\\\\bank.csv',\n",
    "                   engine='python',\n",
    "                   names=fields,\n",
    "                   sep=';',\n",
    "                   na_values=\"unknown\",   # na_values指的是，当碰到\" ?\"时将其替换为NaN\n",
    "                   nrows=100)\n",
    "        \n",
    "print()\n",
    "data1.append(4)\n",
    "print(data1)"
   ]
  },
  {
   "cell_type": "code",
   "execution_count": 24,
   "id": "4f231c19-374f-43fe-9ec1-0d7a08f698d6",
   "metadata": {},
   "outputs": [
    {
     "name": "stdout",
     "output_type": "stream",
     "text": [
      "tensor(1)\n",
      "[[0.]\n",
      " [0.]\n",
      " [0.]\n",
      " [0.]\n",
      " [0.]]\n"
     ]
    }
   ],
   "source": [
    "import torch\n",
    "import numpy as np\n",
    "\n",
    "y = torch.LongTensor([0,1,1])\n",
    "d = y.data.max()\n",
    "print(d)\n",
    "y = torch.LongTensor(np.ones(len(y)))-y\n",
    "x = np.zeros(shape=(5,1))\n",
    "print(x)"
   ]
  },
  {
   "cell_type": "code",
   "execution_count": 17,
   "id": "ec4d5593-6001-467b-9fca-b2b8118412df",
   "metadata": {},
   "outputs": [
    {
     "ename": "SyntaxError",
     "evalue": "cannot assign to function call (3052155320.py, line 10)",
     "output_type": "error",
     "traceback": [
      "\u001B[1;36m  Cell \u001B[1;32mIn [17], line 10\u001B[1;36m\u001B[0m\n\u001B[1;33m    x.getA() = 6\u001B[0m\n\u001B[1;37m    ^\u001B[0m\n\u001B[1;31mSyntaxError\u001B[0m\u001B[1;31m:\u001B[0m cannot assign to function call\n"
     ]
    }
   ],
   "source": [
    "class A:\n",
    "    def __init__(self):\n",
    "        self.a = 5\n",
    "        \n",
    "    def getA(self):\n",
    "        return self.a\n",
    "        \n",
    "        \n",
    "x = A\n",
    "x.getA() = 6\n",
    "print(x.getA())"
   ]
  },
  {
   "cell_type": "code",
   "execution_count": null,
   "id": "7a0d22cb-0beb-43b4-b2a0-c479cdbce491",
   "metadata": {},
   "outputs": [],
   "source": []
  }
 ],
 "metadata": {
  "kernelspec": {
   "display_name": "Python 3 (ipykernel)",
   "language": "python",
   "name": "python3"
  },
  "language_info": {
   "codemirror_mode": {
    "name": "ipython",
    "version": 3
   },
   "file_extension": ".py",
   "mimetype": "text/x-python",
   "name": "python",
   "nbconvert_exporter": "python",
   "pygments_lexer": "ipython3",
   "version": "3.9.9"
  }
 },
 "nbformat": 4,
 "nbformat_minor": 5
}
