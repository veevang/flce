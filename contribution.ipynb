{
 "cells": [
  {
   "cell_type": "markdown",
   "id": "b65d4709-eeb7-474d-9d08-e858290ddbb9",
   "metadata": {},
   "source": [
    "# 联邦学习贡献评估四种方法的代码实现"
   ]
  },
  {
   "cell_type": "markdown",
   "id": "61a15803-485a-4b95-9103-6b99650f3347",
   "metadata": {},
   "source": [
    "## 接口"
   ]
  },
  {
   "cell_type": "markdown",
   "id": "6f530560-aeab-41b2-8dff-090a904bf95a",
   "metadata": {},
   "source": [
    "输入：v：任务模型类型、m：评价方式如准确率、N：各参与方（的数据）\n",
    "\n",
    "输出：各参与方的数据估值"
   ]
  },
  {
   "cell_type": "markdown",
   "id": "15aa5bd2-56c5-45a6-b48a-0aa1ec292f16",
   "metadata": {},
   "source": [
    "## 读取与划分数据"
   ]
  },
  {
   "cell_type": "code",
   "execution_count": null,
   "outputs": [],
   "source": [
    "from loader.regression_data_loader import *\n",
    "from loader.classification_data_loader import *\n",
    "from loader.image_data_loader import *"
   ],
   "metadata": {
    "collapsed": false,
    "pycharm": {
     "is_executing": true
    }
   },
   "id": "c2c3f0f3ca0fe1bc"
  },
  {
   "cell_type": "code",
   "execution_count": null,
   "outputs": [],
   "source": [
    "from measure.individual import Individual\n",
    "from measure.leave_one_out import LeaveOneOut\n",
    "from measure.shapley import Shapley\n",
    "from measure.least_core import LeastCore"
   ],
   "metadata": {
    "collapsed": false
   },
   "id": "d08be6ac9f4b9f21"
  },
  {
   "cell_type": "code",
   "execution_count": null,
   "outputs": [],
   "source": [
    "from model.model import *"
   ],
   "metadata": {
    "collapsed": false
   },
   "id": "f777ec8120e57dbd"
  },
  {
   "cell_type": "code",
   "execution_count": null,
   "outputs": [],
   "source": [
    "loader = MNIST()"
   ],
   "metadata": {
    "collapsed": false
   },
   "id": "15e9f4ff321b8d0b"
  },
  {
   "cell_type": "code",
   "execution_count": 4,
   "id": "820a0215-1f88-4ee3-9f64-d96ab67e9d10",
   "metadata": {},
   "outputs": [],
   "source": [
    "from dataset.Dataset import read_adult, uniform_split, ratio_split\n",
    "\n",
    "X_train, y_train, X_test, y_test = read_adult(0.2)\n",
    "X_train_3d, y_train_2d = uniform_split(3, X_train, y_train)"
   ]
  },
  {
   "cell_type": "markdown",
   "id": "9ac104eb-7210-4bf5-bf8f-cfdb4d1aaaa5",
   "metadata": {},
   "source": [
    "## 选择模型"
   ]
  },
  {
   "cell_type": "code",
   "execution_count": 7,
   "id": "41f1a25c-1c9c-4f7b-a135-19cd42a83927",
   "metadata": {},
   "outputs": [],
   "source": [
    "from model.Model import return_model\n",
    "model = return_model('SVC')"
   ]
  },
  {
   "cell_type": "markdown",
   "id": "9ec3af59-71cf-4ad5-a078-28301e184059",
   "metadata": {},
   "source": [
    "## 实现"
   ]
  },
  {
   "cell_type": "markdown",
   "id": "07837460-e0da-4a98-97ac-8c775933be2c",
   "metadata": {
    "tags": []
   },
   "source": [
    "### 个体法"
   ]
  },
  {
   "cell_type": "code",
   "execution_count": 9,
   "id": "aadf3315-7cbb-4c6e-abc2-c2776b5fe770",
   "metadata": {},
   "outputs": [
    {
     "name": "stdout",
     "output_type": "stream",
     "text": [
      "[0.77 0.79 0.75]\n"
     ]
    }
   ],
   "source": [
    "from measure.INDIV import INDIV\n",
    "\n",
    "measure = INDIV(X_train_3d, y_train_2d, X_test, y_test, model)\n",
    "res = measure.score()\n",
    "\n",
    "print(res)"
   ]
  },
  {
   "cell_type": "markdown",
   "id": "318b3181-e409-4f63-917a-e1862d712595",
   "metadata": {
    "tags": []
   },
   "source": [
    "### LOO(留一法)"
   ]
  },
  {
   "cell_type": "markdown",
   "id": "378b9bc9-ba59-483a-a9b2-13db92ae6013",
   "metadata": {},
   "source": [
    "https://github.com/AI-secure/Shapley-Study/blob/master/shapley/measures/LOO.py"
   ]
  },
  {
   "cell_type": "code",
   "execution_count": 10,
   "id": "6564defc-3ebb-434e-af9b-458f51e6a390",
   "metadata": {},
   "outputs": [
    {
     "name": "stdout",
     "output_type": "stream",
     "text": [
      "[0.03 0.06 0.  ]\n"
     ]
    }
   ],
   "source": [
    "from measure.LOO import LOO\n",
    "\n",
    "measure = LOO(X_train_3d, y_train_2d, X_test, y_test, model)\n",
    "res = measure.score()\n",
    "\n",
    "print(res)"
   ]
  },
  {
   "cell_type": "markdown",
   "id": "c62b081d-af15-489a-967f-783ef42e27b1",
   "metadata": {
    "tags": []
   },
   "source": [
    "### Shaply(夏普利值)"
   ]
  },
  {
   "cell_type": "code",
   "execution_count": 11,
   "outputs": [
    {
     "name": "stdout",
     "output_type": "stream",
     "text": [
      "[0.27333333 0.29833333 0.24833333]\n",
      "0.8199999999999998\n",
      "0.82\n"
     ]
    }
   ],
   "source": [
    "from measure.Shapley import Shapley\n",
    "\n",
    "measure = Shapley(X_train_3d, y_train_2d, X_test, y_test, model)\n",
    "res = measure.score()\n",
    "\n",
    "print(res)\n",
    "print(sum(res))\n",
    "\n",
    "model.fit(X_train, y_train)\n",
    "print(model.score(X_test, y_test))"
   ],
   "metadata": {
    "collapsed": false
   },
   "id": "a98a0956-2d65-4351-8468-0787cdaeb560"
  },
  {
   "cell_type": "markdown",
   "id": "de318f94-f18f-4aec-89db-39d00eae3cd9",
   "metadata": {},
   "source": [
    "### 最小核"
   ]
  },
  {
   "cell_type": "code",
   "execution_count": 15,
   "outputs": [
    {
     "name": "stdout",
     "output_type": "stream",
     "text": [
      "[0.27333333 0.29333333 0.25333333]\n",
      "0.8200000000000001\n",
      "0.82\n"
     ]
    }
   ],
   "source": [
    "from measure.LeastCore import LeastCore\n",
    "\n",
    "loader = Bank()\n",
    "loader.read(nrows=700)\n",
    "loader.encode()\n",
    "loader.train_test_split(test_ratio=0.1)\n",
    "# loader.ratio_split([0.5, 0.4, 0.1])\n",
    "loader.ratio_split([0.05, 0.2, 0.25, 0.1, 0.2, 0.2])\n",
    "loader.randomly_generate_data(40)\n",
    "loader.reverse_y_train({0})\n",
    "print(len(loader.y_train_parts))\n",
    "\n",
    "model = return_model('LR')\n",
    "\n",
    "measure = Shapley(loader, model)\n",
    "res = measure.score()\n",
    "\n",
    "# measure.plot()\n",
    "\n",
    "print('res=', res)\n",
    "print(sum(res))\n",
    "\n",
    "model.fit(torch.cat(loader.X_train_parts), torch.cat(loader.y_train_parts))\n",
    "print(model.score(loader.X_test, loader.y_test))"
   ],
   "metadata": {
    "collapsed": false
   },
   "id": "c1f5b752-6ffa-4744-9749-ca503e27b298"
  },
  {
   "cell_type": "markdown",
   "id": "fbc93bc1-c23d-4a4f-905f-ff617d6da54d",
   "metadata": {},
   "source": [
    "1. 新增模型\n",
    "3. 新增价值度量指标\n",
    "4. 新增参与方数据分布方式"
   ]
  },
  {
   "cell_type": "markdown",
   "id": "7eb4f24a-1462-489e-a043-ec82241fc0bb",
   "metadata": {},
   "source": [
    "## 对方法的评估"
   ]
  },
  {
   "cell_type": "markdown",
   "id": "b2e84f75-589d-46f4-822d-1613705aea3f",
   "metadata": {},
   "source": [
    "性能评测的指标可以等先把上述流程跑通后再考虑，比如：\n",
    "- 贡献评估准确率：一般是从全体下逐个按价值最高到最低移除参与方，最好的评估结果会下降最快\n",
    "- 贡献评估耗时：评估需要耗时多久\n",
    "- 能否抵御恶意参与方：比如输入数据中有参与方为随机数据、复制数据后，是否会受影响"
   ]
  }
 ],
 "metadata": {
  "kernelspec": {
   "display_name": "Python 3 (ipykernel)",
   "language": "python",
   "name": "python3"
  },
  "language_info": {
   "codemirror_mode": {
    "name": "ipython",
    "version": 3
   },
   "file_extension": ".py",
   "mimetype": "text/x-python",
   "name": "python",
   "nbconvert_exporter": "python",
   "pygments_lexer": "ipython3",
   "version": "3.9.9"
  }
 },
 "nbformat": 4,
 "nbformat_minor": 5
}
